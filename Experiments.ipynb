{
 "cells": [
  {
   "cell_type": "code",
   "execution_count": 75,
   "metadata": {},
   "outputs": [],
   "source": [
    "import numpy as np\n",
    "import subprocess\n",
    "import os\n",
    "from multiprocessing import Pool\n",
    "\n",
    "import matplotlib.pyplot as plt\n",
    "\n",
    "%matplotlib inline"
   ]
  },
  {
   "cell_type": "code",
   "execution_count": 47,
   "metadata": {},
   "outputs": [],
   "source": [
    "WORK_DIR = 'temp_folders/'"
   ]
  },
  {
   "cell_type": "code",
   "execution_count": 49,
   "metadata": {},
   "outputs": [],
   "source": [
    "elements = {\n",
    "    'GA': {\n",
    "        'interactivity': 2.5e-4,\n",
    "        'moment': 7.29*9.27e-24\n",
    "    }\n",
    "}"
   ]
  },
  {
   "cell_type": "code",
   "execution_count": 139,
   "metadata": {},
   "outputs": [],
   "source": [
    "class Config:\n",
    "    \n",
    "    def __init__(self, temperature, field, element, saved_data_samples, exper_name):\n",
    "        self.args = {}\n",
    "        self.args['temperature'] = temperature\n",
    "        self.args['field'] = field\n",
    "        self.args['interactivity'] = elements[element]['interactivity']\n",
    "        self.args['magnetic_moment'] = elements[element]['moment']\n",
    "        self.args['saved_data_samples'] = saved_data_samples\n",
    "        self.element = element\n",
    "        self.name = '_'.join([exper_name, element, str(int(self.args['temperature'])), str(int(self.args['field']))])\n",
    "        \n",
    "    def dump_config(self, path):\n",
    "        \n",
    "        full_path = os.path.join(path, self.name+'.conf')\n",
    "        \n",
    "        with open(full_path, 'w+') as f:\n",
    "            f.write( \"\\n\".join( map(lambda x: x[0]+' '+str(x[1]), self.args.items() ) ) )\n",
    "            \n",
    "        return full_path"
   ]
  },
  {
   "cell_type": "code",
   "execution_count": 131,
   "metadata": {},
   "outputs": [],
   "source": [
    "def run_experiment(temp, field, element, step_iterations, exper_name):\n",
    "    \n",
    "    '''\n",
    "    temp, field: (start, end, num_iter) - (n, n+1, 1) if you want just one value\n",
    "    step_iterations: how many metropolis walks to make for each value pairs\n",
    "    '''\n",
    "    \n",
    "    for curr_temp in np.linspace(temp[0], temp[1], temp[2]):\n",
    "        for curr_field in np.linspace(field[0], field[1], field[2]):\n",
    "            \n",
    "            conf = Config(\n",
    "                temperature = curr_temp,\n",
    "                field = curr_field,\n",
    "                element = element,\n",
    "                saved_data_samples=150,\n",
    "                exper_name = exper_name\n",
    "            )\n",
    "            \n",
    "            conf_path = conf.dump_config(os.path.join(WORK_DIR, 'configs'))\n",
    "            get_save = lambda x: os.path.join(WORK_DIR, 'results', conf.name+'_'+str(x)+'.npy')\n",
    "            \n",
    "            for i in range(step_iterations):\n",
    "                subprocess.run(['model/model', conf_path, get_save(i)])\n",
    "    \n",
    "    print('Experiment', exper_name, 'is done')"
   ]
  },
  {
   "cell_type": "code",
   "execution_count": 145,
   "metadata": {},
   "outputs": [],
   "source": [
    "def split_range(ran, n_proc):\n",
    "    \n",
    "    '''\n",
    "    ran: (start, stop, num_iter) - (n, n+1, 1) if you want just one value\n",
    "    '''\n",
    "    \n",
    "    if (ran[1] - ran[0]) == 1 and ran[2] == 1:\n",
    "        return [ran] * n_proc\n",
    "    \n",
    "    assert (ran[2] % n_proc) == 0, 'Please choose a divisible number'\n",
    "    \n",
    "    ranges = []\n",
    "    step = ran[2] / n_proc\n",
    "    step_val = (ran[1] - ran[0]) / ran[2]\n",
    "    \n",
    "    for i in range( n_proc ):\n",
    "        ranges.append( [ran[0] + i*step*step_val, ran[0] + (i+1)*step*step_val, step] )\n",
    "    \n",
    "    return ranges"
   ]
  },
  {
   "cell_type": "code",
   "execution_count": 175,
   "metadata": {},
   "outputs": [],
   "source": [
    "def make_par_args(args, n_proc):\n",
    "    \n",
    "    par_args = args.copy() \n",
    "    \n",
    "    for i, x in enumerate(args):\n",
    "        if type(args[i]) is not type([]) or len(args[i]) != n_proc:\n",
    "            par_args[i] = [par_args[i]] * n_proc\n",
    "\n",
    "    return list(zip(*par_args))"
   ]
  },
  {
   "cell_type": "code",
   "execution_count": 138,
   "metadata": {},
   "outputs": [
    {
     "name": "stdout",
     "output_type": "stream",
     "text": [
      "Experiment TEST is done\n"
     ]
    }
   ],
   "source": [
    "run_experiment([5, 6, 1], [0, 1, 1], 'GA', 1, 'TEST')"
   ]
  },
  {
   "cell_type": "markdown",
   "metadata": {},
   "source": [
    "# Check stabilization"
   ]
  },
  {
   "cell_type": "code",
   "execution_count": null,
   "metadata": {},
   "outputs": [
    {
     "name": "stderr",
     "output_type": "stream",
     "text": [
      "/home/max/Libs/anaconda3/lib/python3.7/site-packages/ipykernel_launcher.py:8: DeprecationWarning: object of type <class 'float'> cannot be safely interpreted as an integer.\n",
      "  \n"
     ]
    }
   ],
   "source": [
    "%%time\n",
    "\n",
    "N_PROC = 1\n",
    "\n",
    "with Pool(processes=N_PROC) as pool:\n",
    "    \n",
    "    temp_range = [1, 6, 5]\n",
    "    temp_ranges = split_range(temp_range, N_PROC)\n",
    "    field_range = [0, 1, 1]\n",
    "    element = 'GA'\n",
    "    step_iterations = 2\n",
    "    exper_name = \"STAB2\"\n",
    "    \n",
    "    args = make_par_args( [temp_ranges, field_range, element, step_iterations, exper_name], N_PROC )\n",
    "    \n",
    "    pool.starmap(run_experiment, args)"
   ]
  },
  {
   "cell_type": "code",
   "execution_count": 181,
   "metadata": {},
   "outputs": [
    {
     "data": {
      "text/plain": [
       "array([-1.05192382e-24, -4.89101000e+02])"
      ]
     },
     "execution_count": 181,
     "metadata": {},
     "output_type": "execute_result"
    }
   ],
   "source": [
    "np.load('temp_folders/results/STAB_GA_4_0_0.npy')[-1]"
   ]
  },
  {
   "cell_type": "code",
   "execution_count": 197,
   "metadata": {},
   "outputs": [
    {
     "data": {
      "image/png": "[encoded data removed]",
      "text/plain": [
       "<Figure size 432x288 with 1 Axes>"
      ]
     },
     "metadata": {
      "needs_background": "light"
     },
     "output_type": "display_data"
    }
   ],
   "source": [
    "dat = []\n",
    "\n",
    "for file in os.listdir('temp_folders/results/'):\n",
    "    if 'STAB_GA' in file:\n",
    "        res = np.load('temp_folders/results/'+file)\n",
    "        plt.scatter(np.arange(res.shape[0]), res[:,0]*1e24)\n",
    "        dat.append([float(file.split('_')[2]), res[-1][0]])\n",
    "        \n",
    "dat = np.array(dat)"
   ]
  },
  {
   "cell_type": "code",
   "execution_count": 191,
   "metadata": {},
   "outputs": [
    {
     "data": {
      "text/plain": [
       "<matplotlib.collections.PathCollection at 0x7f20c7bb9e48>"
      ]
     },
     "execution_count": 191,
     "metadata": {},
     "output_type": "execute_result"
    },
    {
     "data": {
      "image/png": "[encoded data removed]",
      "text/plain": [
       "<Figure size 432x288 with 1 Axes>"
      ]
     },
     "metadata": {
      "needs_background": "light"
     },
     "output_type": "display_data"
    }
   ],
   "source": [
    "plt.scatter(dat[:, 0], dat[:, 1] * 1e24)"
   ]
  },
  {
   "cell_type": "markdown",
   "metadata": {},
   "source": [
    "# Curie temperature "
   ]
  },
  {
   "cell_type": "code",
   "execution_count": 43,
   "metadata": {},
   "outputs": [],
   "source": [
    "arguments = [[\"1000\", \"4\"], [\"1100\", \"5\"]]\n",
    "\n",
    "def run_curie(temp, field, experiment_num):\n",
    "    subprocess.run(['model/model', temp, field, os.path.join('res', temp+'_'+field+'_'+str(experiment_num))+'.npy'])"
   ]
  },
  {
   "cell_type": "code",
   "execution_count": 41,
   "metadata": {
    "scrolled": true
   },
   "outputs": [
    {
     "name": "stderr",
     "output_type": "stream",
     "text": [
      "Process ForkPoolWorker-6:\n",
      "Process ForkPoolWorker-8:\n",
      "Process ForkPoolWorker-7:\n",
      "Process ForkPoolWorker-10:\n",
      "Traceback (most recent call last):\n",
      "Traceback (most recent call last):\n",
      "Process ForkPoolWorker-9:\n",
      "Traceback (most recent call last):\n",
      "Traceback (most recent call last):\n",
      "  File \"/home/max/Libs/anaconda3/lib/python3.7/multiprocessing/process.py\", line 297, in _bootstrap\n",
      "    self.run()\n",
      "Traceback (most recent call last):\n",
      "  File \"/home/max/Libs/anaconda3/lib/python3.7/multiprocessing/process.py\", line 297, in _bootstrap\n",
      "    self.run()\n",
      "  File \"/home/max/Libs/anaconda3/lib/python3.7/multiprocessing/process.py\", line 99, in run\n",
      "    self._target(*self._args, **self._kwargs)\n",
      "  File \"/home/max/Libs/anaconda3/lib/python3.7/multiprocessing/process.py\", line 297, in _bootstrap\n",
      "    self.run()\n",
      "  File \"/home/max/Libs/anaconda3/lib/python3.7/multiprocessing/synchronize.py\", line 95, in __enter__\n",
      "    return self._semlock.__enter__()\n",
      "  File \"/home/max/Libs/anaconda3/lib/python3.7/multiprocessing/process.py\", line 297, in _bootstrap\n",
      "    self.run()\n",
      "  File \"/home/max/Libs/anaconda3/lib/python3.7/multiprocessing/process.py\", line 99, in run\n",
      "    self._target(*self._args, **self._kwargs)\n",
      "  File \"/home/max/Libs/anaconda3/lib/python3.7/multiprocessing/connection.py\", line 216, in recv_bytes\n",
      "    buf = self._recv_bytes(maxlength)\n",
      "  File \"/home/max/Libs/anaconda3/lib/python3.7/multiprocessing/process.py\", line 297, in _bootstrap\n",
      "    self.run()\n",
      "  File \"/home/max/Libs/anaconda3/lib/python3.7/multiprocessing/pool.py\", line 110, in worker\n",
      "    task = get()\n",
      "  File \"/home/max/Libs/anaconda3/lib/python3.7/multiprocessing/pool.py\", line 110, in worker\n",
      "    task = get()\n",
      "  File \"/home/max/Libs/anaconda3/lib/python3.7/multiprocessing/queues.py\", line 351, in get\n",
      "    with self._rlock:\n",
      "  File \"/home/max/Libs/anaconda3/lib/python3.7/multiprocessing/process.py\", line 99, in run\n",
      "    self._target(*self._args, **self._kwargs)\n",
      "  File \"/home/max/Libs/anaconda3/lib/python3.7/multiprocessing/pool.py\", line 110, in worker\n",
      "    task = get()\n",
      "  File \"/home/max/Libs/anaconda3/lib/python3.7/multiprocessing/queues.py\", line 351, in get\n",
      "    with self._rlock:\n",
      "  File \"/home/max/Libs/anaconda3/lib/python3.7/multiprocessing/process.py\", line 99, in run\n",
      "    self._target(*self._args, **self._kwargs)\n",
      "  File \"/home/max/Libs/anaconda3/lib/python3.7/multiprocessing/queues.py\", line 352, in get\n",
      "    res = self._reader.recv_bytes()\n",
      "  File \"/home/max/Libs/anaconda3/lib/python3.7/multiprocessing/synchronize.py\", line 95, in __enter__\n",
      "    return self._semlock.__enter__()\n",
      "  File \"/home/max/Libs/anaconda3/lib/python3.7/multiprocessing/pool.py\", line 110, in worker\n",
      "    task = get()\n",
      "KeyboardInterrupt\n",
      "KeyboardInterrupt\n",
      "  File \"/home/max/Libs/anaconda3/lib/python3.7/multiprocessing/connection.py\", line 407, in _recv_bytes\n",
      "    buf = self._recv(4)\n",
      "  File \"/home/max/Libs/anaconda3/lib/python3.7/multiprocessing/process.py\", line 99, in run\n",
      "    self._target(*self._args, **self._kwargs)\n",
      "  File \"/home/max/Libs/anaconda3/lib/python3.7/multiprocessing/connection.py\", line 379, in _recv\n",
      "    chunk = read(handle, remaining)\n",
      "  File \"/home/max/Libs/anaconda3/lib/python3.7/multiprocessing/queues.py\", line 351, in get\n",
      "    with self._rlock:\n",
      "  File \"/home/max/Libs/anaconda3/lib/python3.7/multiprocessing/pool.py\", line 110, in worker\n",
      "    task = get()\n",
      "  File \"/home/max/Libs/anaconda3/lib/python3.7/multiprocessing/queues.py\", line 351, in get\n",
      "    with self._rlock:\n",
      "  File \"/home/max/Libs/anaconda3/lib/python3.7/multiprocessing/synchronize.py\", line 95, in __enter__\n",
      "    return self._semlock.__enter__()\n",
      "KeyboardInterrupt\n",
      "KeyboardInterrupt\n",
      "  File \"/home/max/Libs/anaconda3/lib/python3.7/multiprocessing/synchronize.py\", line 95, in __enter__\n",
      "    return self._semlock.__enter__()\n",
      "KeyboardInterrupt\n"
     ]
    }
   ],
   "source": [
    "with Pool(processes=5)"
   ]
  },
  {
   "cell_type": "code",
   "execution_count": 42,
   "metadata": {},
   "outputs": [
    {
     "data": {
      "text/plain": [
       "[None, None]"
      ]
     },
     "execution_count": 42,
     "metadata": {},
     "output_type": "execute_result"
    }
   ],
   "source": [
    "pool.starmap(run_curie, [[\"1000\", \"4\", 0], [\"1100\", \"5\", 0]])"
   ]
  },
  {
   "cell_type": "code",
   "execution_count": 140,
   "metadata": {},
   "outputs": [],
   "source": [
    "results = np.load('temp_folders/results/TEST_GA_5.0_0.0_0.npy')"
   ]
  },
  {
   "cell_type": "code",
   "execution_count": 141,
   "metadata": {},
   "outputs": [
    {
     "data": {
      "text/plain": [
       "<matplotlib.collections.PathCollection at 0x7f20c7f6e0f0>"
      ]
     },
     "execution_count": 141,
     "metadata": {},
     "output_type": "execute_result"
    },
    {
     "data": {
      "image/png": "[encoded data removed]",
      "text/plain": [
       "<Figure size 432x288 with 1 Axes>"
      ]
     },
     "metadata": {
      "needs_background": "light"
     },
     "output_type": "display_data"
    }
   ],
   "source": [
    "plt.scatter(np.arange(results[:, 0].shape[0]), results[:, 0]*1e25)"
   ]
  },
  {
   "cell_type": "code",
   "execution_count": 142,
   "metadata": {},
   "outputs": [
    {
     "data": {
      "text/plain": [
       "<matplotlib.collections.PathCollection at 0x7f20c7f3a278>"
      ]
     },
     "execution_count": 142,
     "metadata": {},
     "output_type": "execute_result"
    },
    {
     "data": {
      "image/png": "[encoded data removed]",
      "text/plain": [
       "<Figure size 432x288 with 1 Axes>"
      ]
     },
     "metadata": {
      "needs_background": "light"
     },
     "output_type": "display_data"
    }
   ],
   "source": [
    "plt.scatter(np.arange(results[:, 0].shape[0]), results[:, 1])"
   ]
  }
 ],
 "metadata": {
  "kernelspec": {
   "display_name": "Python 3",
   "language": "python",
   "name": "python3"
  },
  "language_info": {
   "codemirror_mode": {
    "name": "ipython",
    "version": 3
   },
   "file_extension": ".py",
   "mimetype": "text/x-python",
   "name": "python",
   "nbconvert_exporter": "python",
   "pygments_lexer": "ipython3",
   "version": "3.7.2"
  }
 },
 "nbformat": 4,
 "nbformat_minor": 2
}
